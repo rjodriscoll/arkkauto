{
 "cells": [
  {
   "cell_type": "code",
   "execution_count": 1,
   "metadata": {},
   "outputs": [],
   "source": [
    "from utils import openai_key\n",
    "import openai\n",
    "import itertools\n",
    "from duckduckgo_search import DDGS\n",
    "from IPython.display import display, Markdown\n",
    "openai.api_key = openai_key()"
   ]
  },
  {
   "cell_type": "code",
   "execution_count": 2,
   "metadata": {},
   "outputs": [],
   "source": [
    "SYSTEM_PROMPT = \"\"\"You are a world class financial analyst. \n",
    "                  Your role is to take news articles and provide an estimate on the whether they are bullish or bearish for the ticker in question.\n",
    "                  Your reply should be 'bullish', 'bearish' or 'mixed'. \n",
    "                  Never reply with more than one word\"\"\""
   ]
  },
  {
   "cell_type": "code",
   "execution_count": 3,
   "metadata": {},
   "outputs": [],
   "source": [
    "def get_news(term: str, n: int = 10) -> str:\n",
    "    base_string = \"\"\n",
    "    with DDGS() as ddgs:\n",
    "        keywords = term\n",
    "        ddgs_news_gen = ddgs.news(\n",
    "            keywords,\n",
    "            region=\"wt-wt\",\n",
    "            safesearch=\"Off\",\n",
    "            timelimit=\"d\",\n",
    "        )\n",
    "\n",
    "        for i, result in enumerate(list(itertools.islice(ddgs_news_gen, n))):\n",
    "            base_string +=f\"\"\"\\n   {i} TITLE: {result[\"title\"]},BODY: {result[\"body\"]},SOURCE: {result[\"source\"]}\n",
    "                            \"\"\"\n",
    "    return base_string"
   ]
  },
  {
   "cell_type": "code",
   "execution_count": 4,
   "metadata": {},
   "outputs": [
    {
     "data": {
      "text/markdown": [
       "\n",
       "   0 TITLE: TSLA Stock Alert: Tesla Faces New Class-Action Lawsuit,BODY: InvestorPlace - Stock Market News, Stock Advice & Trading Tips Tesla (NASDAQ:TSLA) stock is in the news Thursday as the electric vehicle (EV),SOURCE: Business Insider\n",
       "                            \n",
       "   1 TITLE: Tesla's EV Sales in China Fell More Than 30% in July,BODY: Tesla's electric vehicle (EV) sales in China fell more than 30% last month compared with June, according to the China Passenger Car Association (CPCA). Domestic EV manufacturers in China like BYD, Nio (NIO),,SOURCE: Investopedia on MSN.com\n",
       "                            \n",
       "   2 TITLE: Tesla discusses India plans with commerce minister Goyal in Delhi -sources,BODY: India's Commerce Minister Piyush Goyal met senior U.S.-based Tesla executives last week in a closed-door meeting to discuss the carmaker's plans to establish a manufacturing plant in the country, two people with direct knowledge of the matter told Reuters.,SOURCE: Reuters\n",
       "                            \n",
       "   3 TITLE: Tesla's China-made EV sales in July down 31% mth/mth,BODY: U.S. automaker Tesla sold 64,285 China-made electric vehicles (EVs) in July, down 31% from a month earlier, data from the China Passenger Car Association (CPCA) showed on Thursday.,SOURCE: Reuters on MSN.com\n",
       "                            \n",
       "   4 TITLE: Tesla Inc. (NASDAQ:TSLA) Could Grow By 106.29% Or More,BODY: In last trading session, Tesla Inc. (NASDAQ:TSLA) saw 101.06 million shares changing hands with its beta currently measuring 2.09. Company's recent per share price level of $254.11 trading at -$6.96 or -2.,SOURCE: marketingsentinel\n",
       "                            \n",
       "   5 TITLE: While Tesla Faces Setbacks, Worksport Launches U.S. Production Ahead Of Schedule,BODY: Today's data from the China Passenger Car Association (CPCA) showed that sales of Tesla Inc (NASDAQ: TSLA)-China-made vehicles slumped 31% in July compared to June. This is the first month-on-month decline in sales of Tesla's China-made cars since December,,SOURCE: YAHOO!Finance\n",
       "                            \n",
       "   6 TITLE: Tesla's China deliveries fell to a 2023 low in July,BODY: Shares of Tesla ( TSLA) trickled down 0.65% in premarket trading on Thursday. XPeng ( XPEV) was 0.17% lower, while Li Auto ( LI) rallied 1.77% and Nio ( NIO) jumped 3.57%.,SOURCE: Seeking Alpha on MSN.com\n",
       "                            \n",
       "   7 TITLE: Why Tesla and EV Upstarts Are Struggling While GM and Ford Profits Reach New Heights,BODY: Tesla ( TSLA -2.67%) is cutting prices and margins are falling while EV competitors are facing challenges. As the EV market becomes more uncertain, legacy automakers are reporting higher profits, which in this video Travis Hoium says bodes well for their value over the long term.,SOURCE: The Motley Fool on MSN.com\n",
       "                            \n",
       "   8 TITLE: Tesla discusses plans with India's commerce Minister,BODY: Reuters reports Thursday, citing two unnamed sources, that Tesla (NASDAQ: TSLA) executives met with India's Commerce Minister, Piyush Goyal last week to discuss the carmaker's plans to establish a manufacturing plant in the country.,SOURCE: Investing\n",
       "                            \n",
       "   9 TITLE: Auto parts maker Vimercati to open $200 million plant in Mexico, state governor says,BODY: Auto parts maker Vimercati will invest $200 million to open a plant in the northern Mexican state of Nuevo Leon, the state's governor, Samuel Garcia, said on social media on Thursday. Garcia was scheduled to meet with Vimercati executives on Thursday as part of a tour of India.,SOURCE: Investing\n",
       "                            "
      ],
      "text/plain": [
       "<IPython.core.display.Markdown object>"
      ]
     },
     "metadata": {},
     "output_type": "display_data"
    }
   ],
   "source": [
    "base_string = get_news('TSLA', 10)\n",
    "display(Markdown(base_string))"
   ]
  },
  {
   "cell_type": "code",
   "execution_count": 5,
   "metadata": {},
   "outputs": [
    {
     "data": {
      "text/plain": [
       "'0: Bearish\\n1: Bearish\\n2: Bullish\\n3: Bearish\\n4: Bullish\\n5: Bearish\\n6: Mixed\\n7: Mixed\\n8: Bullish\\n9: Mixed'"
      ]
     },
     "execution_count": 5,
     "metadata": {},
     "output_type": "execute_result"
    }
   ],
   "source": [
    "\n",
    "\n",
    "response = openai.ChatCompletion.create(\n",
    "    model=\"gpt-3.5-turbo\",\n",
    "    messages=[\n",
    "        {\"role\": \"system\", \"content\": SYSTEM_PROMPT},\n",
    "        {\"role\": \"user\", \"content\": base_string},\n",
    "    ],\n",
    ")\n",
    "\n",
    "\n",
    "response[\"choices\"][0]['message']['content']"
   ]
  },
  {
   "cell_type": "code",
   "execution_count": 6,
   "metadata": {},
   "outputs": [
    {
     "data": {
      "text/markdown": [
       "0: Bearish\n",
       "1: Bearish\n",
       "2: Bullish\n",
       "3: Bearish\n",
       "4: Bullish\n",
       "5: Bearish\n",
       "6: Mixed\n",
       "7: Mixed\n",
       "8: Bullish\n",
       "9: Mixed"
      ],
      "text/plain": [
       "<IPython.core.display.Markdown object>"
      ]
     },
     "metadata": {},
     "output_type": "display_data"
    }
   ],
   "source": [
    "display(Markdown(response[\"choices\"][0]['message']['content']))"
   ]
  },
  {
   "cell_type": "code",
   "execution_count": null,
   "metadata": {},
   "outputs": [],
   "source": [
    "term = \"NVDA\"\n",
    "\n",
    "path = [f for f in os.listdir() if f\"news_{term}_\" in f and f.endswith(\".json\")][0]\n",
    "path\n",
    "with open(path) as f:\n",
    "    data = json.load(f)"
   ]
  },
  {
   "cell_type": "code",
   "execution_count": null,
   "metadata": {},
   "outputs": [],
   "source": []
  },
  {
   "cell_type": "code",
   "execution_count": null,
   "metadata": {},
   "outputs": [],
   "source": []
  }
 ],
 "metadata": {
  "kernelspec": {
   "display_name": ".venv",
   "language": "python",
   "name": "python3"
  },
  "language_info": {
   "codemirror_mode": {
    "name": "ipython",
    "version": 3
   },
   "file_extension": ".py",
   "mimetype": "text/x-python",
   "name": "python",
   "nbconvert_exporter": "python",
   "pygments_lexer": "ipython3",
   "version": "3.9.6"
  },
  "orig_nbformat": 4
 },
 "nbformat": 4,
 "nbformat_minor": 2
}
