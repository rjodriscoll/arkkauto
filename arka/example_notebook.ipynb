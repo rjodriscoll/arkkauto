{
 "cells": [
  {
   "cell_type": "code",
   "execution_count": 1,
   "metadata": {},
   "outputs": [],
   "source": [
    "import pandas as pd\n",
    "from dotenv import load_dotenv\n",
    "from utils import alpaca_keys\n",
    "import matplotlib.pyplot as plt\n",
    "import numpy as np\n",
    "alpaca_key, alpaca_secret = alpaca_keys()\n",
    "\n",
    "from ark_fund import Fund, PortfolioComparator"
   ]
  },
  {
   "cell_type": "code",
   "execution_count": 2,
   "metadata": {},
   "outputs": [],
   "source": [
    "data = pd.read_csv('holdings/ARK_INNOVATION_ETF_ARKK_HOLDINGS.csv')"
   ]
  },
  {
   "cell_type": "markdown",
   "metadata": {},
   "source": [
    "set up some datasets "
   ]
  },
  {
   "cell_type": "code",
   "execution_count": 3,
   "metadata": {},
   "outputs": [],
   "source": [
    "data['weight  (%)'] = data['weight  (%)'].str[:-1].astype(float)\n",
    "data2 = data.copy()\n",
    "noise = np.random.normal(0, 0.03, size=len(data2)) # 0 mean and 0.01 standard deviation\n",
    "data2['weight  (%)'] = data2['weight  (%)']/ 100.0 + noise\n",
    "\n",
    "data2['weight  (%)'] = data2['weight  (%)'].clip(lower=0.0, upper=1.0)\n",
    "\n",
    "data2['weight  (%)'] = (data2['weight  (%)'] * 100.0).round(2).astype(str) + '%'\n",
    "data['weight  (%)'] = data['weight  (%)'].astype(str) + '%'\n"
   ]
  },
  {
   "cell_type": "code",
   "execution_count": 4,
   "metadata": {},
   "outputs": [
    {
     "name": "stderr",
     "output_type": "stream",
     "text": [
      "Building portfolio: 100%|██████████| 30/30 [00:21<00:00,  1.41it/s]\n",
      "Building portfolio: 100%|██████████| 30/30 [00:21<00:00,  1.42it/s]\n"
     ]
    }
   ],
   "source": [
    "import pandas as pd\n",
    "\n",
    "ark_fund = Fund()\n",
    "ark_fund.build_portfolio(data)\n",
    "\n",
    "my_fund = Fund()\n",
    "my_fund.build_portfolio(data2) \n",
    "\n",
    "comparator = PortfolioComparator(ark_fund.portfolio_dict, my_fund.portfolio_dict)\n",
    "actions = comparator.balance_actions()\n"
   ]
  },
  {
   "cell_type": "markdown",
   "metadata": {},
   "source": [
    "actions then instruct the user on changes to your fund to match ARKK"
   ]
  },
  {
   "cell_type": "code",
   "execution_count": 5,
   "metadata": {},
   "outputs": [
    {
     "data": {
      "text/plain": [
       "[Action(action='Buy', percentage_adjustment=0.99, ticker='TDOC'),\n",
       " Action(action='Buy', percentage_adjustment=0.66, ticker='PD'),\n",
       " Action(action='Sell', percentage_adjustment=3.2, ticker='VERV'),\n",
       " Action(action='Sell', percentage_adjustment=4.64, ticker='TSLA'),\n",
       " Action(action='Buy', percentage_adjustment=0.7, ticker='TER'),\n",
       " Action(action='Sell', percentage_adjustment=3.54, ticker='TXG'),\n",
       " Action(action='Buy', percentage_adjustment=2.32, ticker='EXAS'),\n",
       " Action(action='Buy', percentage_adjustment=3.03, ticker='SQ'),\n",
       " Action(action='Sell', percentage_adjustment=5.1, ticker='CRSP'),\n",
       " Action(action='Buy', percentage_adjustment=0.94, ticker='TWST'),\n",
       " Action(action='Sell', percentage_adjustment=1.28, ticker='COIN'),\n",
       " Action(action='Sell', percentage_adjustment=1.28, ticker='SHOP'),\n",
       " Action(action='Buy', percentage_adjustment=0.13, ticker='HOOD'),\n",
       " Action(action='Buy', percentage_adjustment=0.59, ticker='NTLA'),\n",
       " Action(action='Buy', percentage_adjustment=3.22, ticker='ZM'),\n",
       " Action(action='Buy', percentage_adjustment=0.64, ticker='ROKU'),\n",
       " Action(action='Buy', percentage_adjustment=1.29, ticker='TWLO'),\n",
       " Action(action='Buy', percentage_adjustment=0.95, ticker='VCYT'),\n",
       " Action(action='Sell', percentage_adjustment=4.52, ticker='PATH'),\n",
       " Action(action='Buy', percentage_adjustment=1.1, ticker='PLTR'),\n",
       " Action(action='Sell', percentage_adjustment=0.72, ticker='DNA'),\n",
       " Action(action='Buy', percentage_adjustment=2.1, ticker='PACB'),\n",
       " Action(action='Buy', percentage_adjustment=0.44, ticker='CERS'),\n",
       " Action(action='Sell', percentage_adjustment=6.88, ticker='META'),\n",
       " Action(action='Sell', percentage_adjustment=1.55, ticker='TWOU'),\n",
       " Action(action='Sell', percentage_adjustment=0.41, ticker='RBLX'),\n",
       " Action(action='Buy', percentage_adjustment=0.28, ticker='NVTA'),\n",
       " Action(action='Buy', percentage_adjustment=1.9, ticker='BEAM'),\n",
       " Action(action='Sell', percentage_adjustment=0.54, ticker='DKNG'),\n",
       " Action(action='Sell', percentage_adjustment=4.0, ticker='U')]"
      ]
     },
     "execution_count": 5,
     "metadata": {},
     "output_type": "execute_result"
    }
   ],
   "source": [
    "actions"
   ]
  },
  {
   "attachments": {},
   "cell_type": "markdown",
   "metadata": {},
   "source": [
    "Important info is stored in the portfolio. Here's just a small example:"
   ]
  },
  {
   "cell_type": "code",
   "execution_count": 6,
   "metadata": {},
   "outputs": [
    {
     "data": {
      "text/plain": [
       "(261.0818,\n",
       " 805401591808,\n",
       " {'2023-08': 2.8260869565217392,\n",
       "  '2023-07': 2.511627906976744,\n",
       "  '2023-06': 2.5348837209302326,\n",
       "  '2023-05': 2.3095238095238093},\n",
       " 82.50325)"
      ]
     },
     "execution_count": 6,
     "metadata": {},
     "output_type": "execute_result"
    }
   ],
   "source": [
    "tsla = my_fund.portfolio[0].ticker\n",
    "tsla.current_price, tsla.market_cap, tsla.mean_recommendation, tsla.pe_ratio"
   ]
  },
  {
   "cell_type": "code",
   "execution_count": 13,
   "metadata": {},
   "outputs": [
    {
     "data": {
      "text/plain": [
       "2.081967"
      ]
     },
     "execution_count": 13,
     "metadata": {},
     "output_type": "execute_result"
    }
   ],
   "source": [
    "tsla.beta"
   ]
  },
  {
   "cell_type": "code",
   "execution_count": null,
   "metadata": {},
   "outputs": [],
   "source": []
  }
 ],
 "metadata": {
  "kernelspec": {
   "display_name": ".venv",
   "language": "python",
   "name": "python3"
  },
  "language_info": {
   "codemirror_mode": {
    "name": "ipython",
    "version": 3
   },
   "file_extension": ".py",
   "mimetype": "text/x-python",
   "name": "python",
   "nbconvert_exporter": "python",
   "pygments_lexer": "ipython3",
   "version": "3.9.6"
  },
  "orig_nbformat": 4
 },
 "nbformat": 4,
 "nbformat_minor": 2
}
