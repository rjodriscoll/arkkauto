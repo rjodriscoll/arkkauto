{
 "cells": [
  {
   "cell_type": "code",
   "execution_count": 1,
   "metadata": {},
   "outputs": [],
   "source": [
    "from llm_analyser import LLMAnalyser"
   ]
  },
  {
   "cell_type": "code",
   "execution_count": 2,
   "metadata": {},
   "outputs": [
    {
     "name": "stdout",
     "output_type": "stream",
     "text": [
      "{'Bearish': 42.857142857142854, 'Bullish': 14.285714285714285, 'Mixed': 42.857142857142854}\n"
     ]
    }
   ],
   "source": [
    "analyser = LLMAnalyser('PYPL', 10)\n",
    "print(analyser.get_ai_summary())"
   ]
  },
  {
   "cell_type": "code",
   "execution_count": 3,
   "metadata": {},
   "outputs": [
    {
     "name": "stdout",
     "output_type": "stream",
     "text": [
      "{'Bearish': 36.84210526315789, 'Bullish': 31.57894736842105, 'Mixed': 15.789473684210526}\n"
     ]
    }
   ],
   "source": [
    "analyser = LLMAnalyser('TSLA', 20)\n",
    "print(analyser.get_ai_summary())"
   ]
  },
  {
   "cell_type": "code",
   "execution_count": 4,
   "metadata": {},
   "outputs": [
    {
     "name": "stdout",
     "output_type": "stream",
     "text": [
      "{'Bearish': 42.10526315789473, 'Bullish': 36.84210526315789, 'Mixed': 21.052631578947366}\n"
     ]
    }
   ],
   "source": [
    "analyser = LLMAnalyser('META', 20)\n",
    "print(analyser.get_ai_summary())"
   ]
  }
 ],
 "metadata": {
  "kernelspec": {
   "display_name": ".venv",
   "language": "python",
   "name": "python3"
  },
  "language_info": {
   "codemirror_mode": {
    "name": "ipython",
    "version": 3
   },
   "file_extension": ".py",
   "mimetype": "text/x-python",
   "name": "python",
   "nbconvert_exporter": "python",
   "pygments_lexer": "ipython3",
   "version": "3.9.6"
  },
  "orig_nbformat": 4
 },
 "nbformat": 4,
 "nbformat_minor": 2
}
