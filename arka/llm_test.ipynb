{
 "cells": [
  {
   "cell_type": "code",
   "execution_count": 1,
   "metadata": {},
   "outputs": [],
   "source": [
    "from llm_analyser import LLMAnalyser"
   ]
  },
  {
   "cell_type": "code",
   "execution_count": 2,
   "metadata": {},
   "outputs": [
    {
     "name": "stdout",
     "output_type": "stream",
     "text": [
      "{'Bearish': 50.0, 'Bullish': 0.0, 'Mixed': 50.0}\n"
     ]
    }
   ],
   "source": [
    "analyzer = LLMAnalyser('PYPL', 20)\n",
    "print(analyzer.get_ai_summary())"
   ]
  },
  {
   "cell_type": "code",
   "execution_count": 3,
   "metadata": {},
   "outputs": [
    {
     "name": "stdout",
     "output_type": "stream",
     "text": [
      "{'Bearish': 40.0, 'Bullish': 30.0, 'Mixed': 30.0}\n"
     ]
    }
   ],
   "source": [
    "analyzer = LLMAnalyser('TSLA', 20)\n",
    "print(analyzer.get_ai_summary())"
   ]
  },
  {
   "cell_type": "code",
   "execution_count": 4,
   "metadata": {},
   "outputs": [
    {
     "name": "stdout",
     "output_type": "stream",
     "text": [
      "{'Bearish': 45.0, 'Bullish': 35.0, 'Mixed': 20.0}\n"
     ]
    }
   ],
   "source": [
    "analyzer = LLMAnalyser('META', 20)\n",
    "print(analyzer.get_ai_summary())"
   ]
  },
  {
   "cell_type": "code",
   "execution_count": null,
   "metadata": {},
   "outputs": [],
   "source": []
  }
 ],
 "metadata": {
  "kernelspec": {
   "display_name": ".venv",
   "language": "python",
   "name": "python3"
  },
  "language_info": {
   "codemirror_mode": {
    "name": "ipython",
    "version": 3
   },
   "file_extension": ".py",
   "mimetype": "text/x-python",
   "name": "python",
   "nbconvert_exporter": "python",
   "pygments_lexer": "ipython3",
   "version": "3.9.6"
  },
  "orig_nbformat": 4
 },
 "nbformat": 4,
 "nbformat_minor": 2
}
